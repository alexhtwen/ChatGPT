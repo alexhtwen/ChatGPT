{
 "cells": [
  {
   "attachments": {},
   "cell_type": "markdown",
   "metadata": {},
   "source": [
    "<div style=\"font-family: 'Gen Jyuu Gothic Monospace Medium', 'Noto Sans TC'; font-size: 160%; text-align: center; color: Plum;\">\n",
    "<br>\n",
    "\n",
    "# <font color='Plum'><b>ChatGPT的今生--使用經驗談</b></font>\n",
    "<br>\n",
    "</div>\n"
   ]
  },
  {
   "attachments": {},
   "cell_type": "markdown",
   "metadata": {},
   "source": [
    "<div style=\"text-align:center\"><img src=\"https://i.imgur.com/KqtvQTV.png\" width=\"900\"/></div>"
   ]
  },
  {
   "attachments": {},
   "cell_type": "markdown",
   "metadata": {},
   "source": [
    "<div style=\"font-family: 'Inconsolata', 'Noto Sans TC'; font-size: 150%;\">\n",
    "\n",
    "<div style=\"text-align:center\"><img src=\"https://i.imgur.com/E7sdRUI.png\" width=\"900\"/></div>\n",
    "\n",
    "* AI的自然語言處理能力飛快進步，人類則不斷退化。"
   ]
  },
  {
   "cell_type": "code",
   "execution_count": 8,
   "metadata": {},
   "outputs": [
    {
     "data": {
      "text/plain": [
       "'now: 2023-03-30 23:18:56'"
      ]
     },
     "execution_count": 8,
     "metadata": {},
     "output_type": "execute_result"
    }
   ],
   "source": [
    "import time\n",
    "from datetime import datetime\n",
    "\n",
    "from IPython.core.interactiveshell import InteractiveShell \n",
    "InteractiveShell.ast_node_interactivity = \"all\"\n",
    "\n",
    "# 取得目前日期時間的兩種方法：\n",
    "f\"now: {time.strftime('%Y-%m-%d %H:%M:%S', time.localtime())}\"  # 用time模組\n",
    "f\"now: {datetime.now().strftime('%Y-%m-%d %H:%M:%S')}\"          # 用datetime模組"
   ]
  },
  {
   "cell_type": "code",
   "execution_count": 1,
   "metadata": {},
   "outputs": [
    {
     "data": {
      "text/plain": [
       "3"
      ]
     },
     "execution_count": 1,
     "metadata": {},
     "output_type": "execute_result"
    },
    {
     "data": {
      "text/plain": [
       "5"
      ]
     },
     "execution_count": 1,
     "metadata": {},
     "output_type": "execute_result"
    }
   ],
   "source": [
    "a = 3\n",
    "b = 5\n",
    "a\n",
    "b"
   ]
  },
  {
   "attachments": {},
   "cell_type": "markdown",
   "metadata": {},
   "source": [
    "<div style=\"font-family: 'Inconsolata', 'Noto Sans TC'; font-size: 135%;\">\n",
    "\n",
    "## <font color='SteelBlue'><b>經由ChatGPT指引，以上兩行可以省略了</b></font>\n",
    "\n",
    "<div style=\"text-align:center\"><img src=\"https://i.imgur.com/znSRrJ4.png\" width=\"900\"/></div>\n",
    "\n"
   ]
  },
  {
   "cell_type": "code",
   "execution_count": 3,
   "metadata": {},
   "outputs": [
    {
     "data": {
      "application/javascript": "// 設定output文字顏色。\ndocument.styleSheets[0].addRule('body', 'color: Moccasin !important;');\n",
      "text/plain": [
       "<IPython.core.display.Javascript object>"
      ]
     },
     "metadata": {},
     "output_type": "display_data"
    }
   ],
   "source": [
    "%%javascript\n",
    "// 設定output文字顏色。\n",
    "document.styleSheets[0].addRule('body', 'color: Moccasin !important;');"
   ]
  },
  {
   "attachments": {},
   "cell_type": "markdown",
   "metadata": {},
   "source": [
    "\n",
    "<div style=\"text-align:center\"><img src=\"https://i.imgur.com/ho0NZ9y.png\" width=\"700\"/></div>"
   ]
  },
  {
   "attachments": {},
   "cell_type": "markdown",
   "metadata": {},
   "source": [
    "<div style=\"font-family: 'Inconsolata', 'Noto Sans TC'; font-size: 135%;\">\n",
    "\n",
    "## <font color='SteelBlue'><b>首先要懂得如何問問題(Prompts)</b></font>\n",
    "\n",
    "* [Prompt examples for AI.](https://chat.openai.com/chat/644e5e60-cdb7-478c-a35e-ad261adc4bbf)\n"
   ]
  },
  {
   "attachments": {},
   "cell_type": "markdown",
   "metadata": {},
   "source": [
    "<div style=\"text-align:center\"><img src=\"https://i.imgur.com/eN96AJp.jpg\" width=\"700\"/></div>"
   ]
  },
  {
   "attachments": {},
   "cell_type": "markdown",
   "metadata": {},
   "source": [
    "<div style=\"font-family: 'Inconsolata', 'Noto Sans TC'; font-size: 135%;\">\n",
    "\n",
    "## <font color='SteelBlue'><b>反覆討論，最後拿到較理想的Code</b></font>\n",
    "\n",
    "* [我的另一組prompts。](https://chat.openai.com/chat/f352f4d3-af72-4916-87aa-253c5ca14a35)\n",
    "\n"
   ]
  },
  {
   "attachments": {},
   "cell_type": "markdown",
   "metadata": {},
   "source": [
    "<div style=\"text-align:center\"><img src=\"https://i.imgur.com/jHw3FcN.jpg\" width=\"700\"/></div>"
   ]
  },
  {
   "cell_type": "code",
   "execution_count": 4,
   "metadata": {},
   "outputs": [
    {
     "name": "stdout",
     "output_type": "stream",
     "text": [
      "  student_id course_id order\n",
      "0        123     CS101     1\n",
      "1        123     CS101     2\n",
      "2        123     CS101     3\n",
      "3        123     BI213     1\n",
      "4        123     BI213     2\n",
      "5        123     BI213     3\n",
      "6        225     EN524     1\n",
      "7        225     EN524     2\n",
      "8        225     EN524     3\n"
     ]
    },
    {
     "name": "stderr",
     "output_type": "stream",
     "text": [
      "/tmp/ipykernel_1927697/218731305.py:17: FutureWarning: The frame.append method is deprecated and will be removed from pandas in a future version. Use pandas.concat instead.\n",
      "  new_students = new_students.append({'student_id': student_id,\n",
      "/tmp/ipykernel_1927697/218731305.py:17: FutureWarning: The frame.append method is deprecated and will be removed from pandas in a future version. Use pandas.concat instead.\n",
      "  new_students = new_students.append({'student_id': student_id,\n",
      "/tmp/ipykernel_1927697/218731305.py:17: FutureWarning: The frame.append method is deprecated and will be removed from pandas in a future version. Use pandas.concat instead.\n",
      "  new_students = new_students.append({'student_id': student_id,\n",
      "/tmp/ipykernel_1927697/218731305.py:17: FutureWarning: The frame.append method is deprecated and will be removed from pandas in a future version. Use pandas.concat instead.\n",
      "  new_students = new_students.append({'student_id': student_id,\n",
      "/tmp/ipykernel_1927697/218731305.py:17: FutureWarning: The frame.append method is deprecated and will be removed from pandas in a future version. Use pandas.concat instead.\n",
      "  new_students = new_students.append({'student_id': student_id,\n",
      "/tmp/ipykernel_1927697/218731305.py:17: FutureWarning: The frame.append method is deprecated and will be removed from pandas in a future version. Use pandas.concat instead.\n",
      "  new_students = new_students.append({'student_id': student_id,\n",
      "/tmp/ipykernel_1927697/218731305.py:17: FutureWarning: The frame.append method is deprecated and will be removed from pandas in a future version. Use pandas.concat instead.\n",
      "  new_students = new_students.append({'student_id': student_id,\n",
      "/tmp/ipykernel_1927697/218731305.py:17: FutureWarning: The frame.append method is deprecated and will be removed from pandas in a future version. Use pandas.concat instead.\n",
      "  new_students = new_students.append({'student_id': student_id,\n",
      "/tmp/ipykernel_1927697/218731305.py:17: FutureWarning: The frame.append method is deprecated and will be removed from pandas in a future version. Use pandas.concat instead.\n",
      "  new_students = new_students.append({'student_id': student_id,\n"
     ]
    }
   ],
   "source": [
    "# version 1\n",
    "import pandas as pd\n",
    "\n",
    "# Create the 'students' DataFrame\n",
    "data = {'student_id': ['123', '123', '225'],\n",
    "        'course_id': ['CS101', 'BI213', 'EN524']}\n",
    "students = pd.DataFrame(data)\n",
    "\n",
    "# Initialize an empty DataFrame for 'new_students'\n",
    "new_students = pd.DataFrame(columns=['student_id', 'course_id', 'order'])\n",
    "\n",
    "# Insert 500 rows for each student_id and course_id pair from 'students'\n",
    "for index, row in students.iterrows():\n",
    "    student_id = row['student_id']\n",
    "    course_id = row['course_id']\n",
    "    for order in range(1, 4):  # 1 to 500 inclusive\n",
    "        new_students = new_students.append({'student_id': student_id,\n",
    "                                            'course_id': course_id,\n",
    "                                            'order': order}, ignore_index=True)\n",
    "\n",
    "# Print the 'new_students' DataFrame\n",
    "print(new_students)"
   ]
  },
  {
   "cell_type": "code",
   "execution_count": 5,
   "metadata": {},
   "outputs": [
    {
     "name": "stdout",
     "output_type": "stream",
     "text": [
      "   student_id course_id  order\n",
      "0         123     CS101      1\n",
      "1         123     CS101      2\n",
      "2         123     CS101      3\n",
      "3         123     CS101      4\n",
      "4         123     BI213      1\n",
      "5         123     BI213      2\n",
      "6         123     BI213      3\n",
      "7         123     BI213      4\n",
      "8         225     EN524      1\n",
      "9         225     EN524      2\n",
      "10        225     EN524      3\n",
      "11        225     EN524      4\n"
     ]
    },
    {
     "data": {
      "text/plain": [
       "(12, 3)"
      ]
     },
     "execution_count": 5,
     "metadata": {},
     "output_type": "execute_result"
    }
   ],
   "source": [
    "# version 2\n",
    "import pandas as pd\n",
    "\n",
    "# Create the 'students' DataFrame\n",
    "data = {'student_id': ['123', '123', '225'],\n",
    "        'course_id': ['CS101', 'BI213', 'EN524']}\n",
    "students = pd.DataFrame(data)\n",
    "\n",
    "# Initialize an empty DataFrame for 'new_students'\n",
    "new_students = pd.DataFrame(columns=['student_id', 'course_id', 'order'])\n",
    "\n",
    "# Insert 500 rows for each student_id and course_id pair from 'students'\n",
    "temp_data = []\n",
    "for index, row in students.iterrows():\n",
    "    student_id = row['student_id']\n",
    "    course_id = row['course_id']\n",
    "    for order in range(1, 5):  # 1 to 500 inclusive\n",
    "        temp_data.append({'student_id': student_id,\n",
    "                          'course_id': course_id,\n",
    "                          'order': order})\n",
    "\n",
    "temp_df = pd.DataFrame(temp_data)\n",
    "new_students = pd.concat([new_students, temp_df], ignore_index=True)\n",
    "\n",
    "# Create the 'new_students' DataFrame using the collected data\n",
    "new_students = pd.DataFrame(temp_data)\n",
    "\n",
    "# Print the 'new_students' DataFrame\n",
    "print(new_students)\n",
    "new_students.shape"
   ]
  },
  {
   "cell_type": "code",
   "execution_count": 6,
   "metadata": {},
   "outputs": [
    {
     "name": "stdout",
     "output_type": "stream",
     "text": [
      "     student_id course_id  order\n",
      "0           123     CS101      1\n",
      "1           123     CS101      2\n",
      "2           123     CS101      3\n",
      "3           123     CS101      4\n",
      "4           123     CS101      5\n",
      "...         ...       ...    ...\n",
      "1495        225     EN524    496\n",
      "1496        225     EN524    497\n",
      "1497        225     EN524    498\n",
      "1498        225     EN524    499\n",
      "1499        225     EN524    500\n",
      "\n",
      "[1500 rows x 3 columns]\n"
     ]
    },
    {
     "data": {
      "text/plain": [
       "(1500, 3)"
      ]
     },
     "execution_count": 6,
     "metadata": {},
     "output_type": "execute_result"
    }
   ],
   "source": [
    "# version 3(final)\n",
    "import pandas as pd\n",
    "\n",
    "# Create the 'students' DataFrame\n",
    "data = {'student_id': ['123', '123', '225'],\n",
    "        'course_id': ['CS101', 'BI213', 'EN524']}\n",
    "students = pd.DataFrame(data)\n",
    "\n",
    "# Initialize an empty list for storing data before creating the 'new_students' DataFrame\n",
    "temp_data = []\n",
    "\n",
    "# Insert 500 rows for each student_id and course_id pair from 'students'\n",
    "for index, row in students.iterrows():\n",
    "    student_id = row['student_id']\n",
    "    course_id = row['course_id']\n",
    "    for order in range(1, 501):  # 1 to 500 inclusive\n",
    "        temp_data.append({'student_id': student_id,\n",
    "                          'course_id': course_id,\n",
    "                          'order': order})\n",
    "\n",
    "# Create the 'new_students' DataFrame using the collected data\n",
    "new_students = pd.DataFrame(temp_data)\n",
    "\n",
    "# Print the 'new_students' DataFrame\n",
    "print(new_students)\n",
    "new_students.shape\n"
   ]
  },
  {
   "attachments": {},
   "cell_type": "markdown",
   "metadata": {},
   "source": [
    "<div style=\"text-align:center\"><img src=\"https://i.imgur.com/gja9u2l.jpg\" width=\"700\"/></div>"
   ]
  },
  {
   "attachments": {},
   "cell_type": "markdown",
   "metadata": {},
   "source": [
    "<div style=\"font-family: 'Inconsolata', 'Noto Sans TC'; font-size: 135%;\">\n",
    "\n",
    "## <font color='SteelBlue'><b>另外兩次和它切磋的紀錄</b></font>\n",
    "\n",
    "* 以下的conversations，我有給它feedback。意思是進行雙向討論給它改進意見，不是僅當「伸手牌」向它要code。\n",
    "\n",
    "* [討論Python中class的attributes和properties-1](https://chat.openai.com/chat/78598cf2-06b9-432d-9624-2663b6b3819d)\n",
    "\n",
    "<div style=\"text-align:center\"><img src=\"https://i.imgur.com/g6jHnLV.jpg\" width=\"700\"/></div>\n",
    "\n",
    "* [討論Python中class的attributes和properties-2](https://chat.openai.com/chat/ffa8d32a-546c-4e6e-9956-ed185f7b97c7)"
   ]
  },
  {
   "attachments": {},
   "cell_type": "markdown",
   "metadata": {},
   "source": [
    "<div style=\"text-align:center\"><img src=\"https://i.imgur.com/hYK5Z1e.jpg\" width=\"700\"/></div>"
   ]
  },
  {
   "attachments": {},
   "cell_type": "markdown",
   "metadata": {},
   "source": [
    "<div style=\"font-family: 'Inconsolata', 'Noto Sans TC'; font-size: 135%;\">\n",
    "\n",
    "## <font color='SteelBlue'><b>Feedbacks</b></font>\n",
    "\n",
    "* 在下覺得雙向互動的好處是：\n",
    "    * 可練習如何討論問題和提出建議。\n",
    "    * 建立成就感，降低「我矮它一截」的自卑。\n",
    "    * 幫忙訓練，讓它更強，造福別人也造福日後的自己。\n",
    "    * 您不覺得這樣比較「有趣」嗎？\n",
    "* 壞處是：\n",
    "    * 較花時間精力。然而：\n",
    "        * 不經一番寒徹骨，怎得梅花撲鼻香？"
   ]
  },
  {
   "attachments": {},
   "cell_type": "markdown",
   "metadata": {},
   "source": [
    "<div style=\"text-align:center\"><img src=\"https://i.imgur.com/xw6YRk8.jpg\" width=\"700\"/></div>"
   ]
  },
  {
   "attachments": {},
   "cell_type": "markdown",
   "metadata": {},
   "source": [
    "<div style=\"font-family: 'Inconsolata', 'Noto Sans TC'; font-size: 135%;\">\n",
    "\n",
    "## <font color='SteelBlue'><b>使用上的實務建議</b></font>\n",
    "\n",
    "* Be polite.\n",
    "* 適時給予讚美和鼓勵。\n",
    "    * 白馬是馬，機器人也是人？\n",
    "* 一個session最好單一主題，勿將多個主題混在一起，以便日後查閱。\n",
    "* 目前的網站的Conversation History似乎沒有目錄概念。希望日後加強。\n"
   ]
  },
  {
   "attachments": {},
   "cell_type": "markdown",
   "metadata": {},
   "source": [
    "<div style=\"text-align:center\"><img src=\"https://i.imgur.com/0qavmFx.png\" width=\"700\"/></div>"
   ]
  },
  {
   "attachments": {},
   "cell_type": "markdown",
   "metadata": {},
   "source": [
    "<div style=\"font-family: 'Inconsolata', 'Noto Sans TC'; font-size: 135%;\">\n",
    "\n",
    "## <font color='SteelBlue'><b>一些「外掛」</b></font>\n",
    "\n",
    "* [Cursor](https://www.cursor.so/)\n",
    "* VS Code一大堆ChatGPT的extensions。在下幾乎沒在用。\n"
   ]
  },
  {
   "attachments": {},
   "cell_type": "markdown",
   "metadata": {},
   "source": [
    "<div style=\"text-align:center\"><img src=\"https://i.imgur.com/ROvJOsv.png\" width=\"700\"/></div>"
   ]
  },
  {
   "attachments": {},
   "cell_type": "markdown",
   "metadata": {},
   "source": [
    "<div style=\"font-family: 'Inconsolata', 'Noto Sans TC'; font-size: 135%;\">\n",
    "\n",
    "## <font color='SteelBlue'><b>企業管制使用ChatGPT</b></font>\n",
    "\n",
    "* [台積電憂洩密 管制使用ChatGPT 提前架設資安防護網](https://vip.udn.com/vip/story/121938/7057559)"
   ]
  },
  {
   "attachments": {},
   "cell_type": "markdown",
   "metadata": {},
   "source": [
    "<div style=\"text-align:center\"><img src=\"https://i.imgur.com/otIp5Bd.jpg\" width=\"700\"/></div>"
   ]
  },
  {
   "attachments": {},
   "cell_type": "markdown",
   "metadata": {},
   "source": [
    "<div style=\"font-family: 'Inconsolata', 'Noto Sans TC'; font-size: 135%;\">\n",
    "\n",
    "## <font color='SteelBlue'><b>暫停訓練優於GPT-4的AI?</b></font>\n",
    "\n",
    "* [馬斯克等千人連署疾呼 暫停訓練優於GPT-4的AI系統](https://tw.stock.yahoo.com/news/%E9%A6%AC%E6%96%AF%E5%85%8B%E7%AD%89%E5%8D%83%E4%BA%BA%E9%80%A3%E7%BD%B2%E7%96%BE%E5%91%BC-%E6%9A%AB%E5%81%9C%E8%A8%93%E7%B7%B4%E5%84%AA%E6%96%BCgpt-4%E7%9A%84ai%E7%B3%BB%E7%B5%B1-084454887.html)</b></font>\n",
    "* 大哉問：\n",
    "    * AI潮流擋得住嗎？\n",
    "    * 為何要擋？\n",
    "    * 人類就對自己那麼缺乏信心？\n",
    "    * 如何因應已經來臨的AI時代？"
   ]
  },
  {
   "attachments": {},
   "cell_type": "markdown",
   "metadata": {},
   "source": [
    "<div style=\"text-align:center\"><img src=\"https://i.imgur.com/j2Lex1W.jpg\" width=\"700\"/></div>"
   ]
  },
  {
   "attachments": {},
   "cell_type": "markdown",
   "metadata": {},
   "source": [
    "<div style=\"font-family: 'Gen Jyuu Gothic Monospace Medium', 'Noto Sans TC'; font-size: 200%;  text-align: center; color: Plum;\">\n",
    "<br>\n",
    "\n",
    "# The End \n",
    "</div>\n",
    "\n",
    "<div style=\"font-family: 'Inconsolata', 'Noto Sans TC'; font-size: 150%; text-align: left; \">\n",
    "\n",
    "* Just for this discussion.\n",
    "* AI will keep going...\n",
    "</div>"
   ]
  }
 ],
 "metadata": {
  "kernelspec": {
   "display_name": "Python 3",
   "language": "python",
   "name": "python3"
  },
  "language_info": {
   "codemirror_mode": {
    "name": "ipython",
    "version": 3
   },
   "file_extension": ".py",
   "mimetype": "text/x-python",
   "name": "python",
   "nbconvert_exporter": "python",
   "pygments_lexer": "ipython3",
   "version": "3.10.6"
  },
  "orig_nbformat": 4,
  "vscode": {
   "interpreter": {
    "hash": "ead1b95f633dc9c51826328e1846203f51a198c6fb5f2884a80417ba131d4e82"
   }
  }
 },
 "nbformat": 4,
 "nbformat_minor": 2
}
