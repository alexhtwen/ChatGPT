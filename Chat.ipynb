{
 "cells": [
  {
   "cell_type": "code",
   "execution_count": 14,
   "metadata": {},
   "outputs": [
    {
     "name": "stdout",
     "output_type": "stream",
     "text": [
      "2023-03-27 19:36:29.936509\n"
     ]
    }
   ],
   "source": [
    "from datetime import datetime\n",
    "\n",
    "print(datetime.now())"
   ]
  },
  {
   "cell_type": "code",
   "execution_count": 9,
   "metadata": {},
   "outputs": [
    {
     "data": {
      "text/plain": [
       "'now: 2023-03-27 19:18:07'"
      ]
     },
     "execution_count": 9,
     "metadata": {},
     "output_type": "execute_result"
    },
    {
     "data": {
      "text/plain": [
       "'now: 2023-03-27 19:18:07'"
      ]
     },
     "execution_count": 9,
     "metadata": {},
     "output_type": "execute_result"
    }
   ],
   "source": [
    "import time\n",
    "from datetime import datetime\n",
    "\n",
    "from IPython.core.interactiveshell import InteractiveShell \n",
    "InteractiveShell.ast_node_interactivity = \"all\"\n",
    "\n",
    "# 取得目前日期時間的兩種方法：\n",
    "f\"now: {time.strftime('%Y-%m-%d %H:%M:%S', time.localtime())}\"  # 用time模組\n",
    "f\"now: {datetime.now().strftime('%Y-%m-%d %H:%M:%S')}\"          # 用datetime模組"
   ]
  },
  {
   "attachments": {},
   "cell_type": "markdown",
   "metadata": {},
   "source": [
    "Prompt examples for AI\n",
    "<div style=\"font-family:Inconsolata; font-size:150%;\">\n",
    "\n",
    "[Prompt examples for AI](https://chat.openai.com/chat/644e5e60-cdb7-478c-a35e-ad261adc4bbf)\n",
    "\n",
    "<!-- \n",
    "<header>\n",
    "<div style=\"text-align:center\"><img src=\"https://i.imgur.com/9dPj9Bo.jpg\" width=\"500\"/></div> -->"
   ]
  },
  {
   "cell_type": "code",
   "execution_count": 6,
   "metadata": {},
   "outputs": [
    {
     "data": {
      "text/plain": [
       "340282366920938463463374607431768211456"
      ]
     },
     "execution_count": 6,
     "metadata": {},
     "output_type": "execute_result"
    }
   ],
   "source": [
    "16**32"
   ]
  },
  {
   "cell_type": "code",
   "execution_count": null,
   "metadata": {},
   "outputs": [],
   "source": [
    "import pandas as pd\n",
    "\n",
    "# Create the 'students' DataFrame\n",
    "data = {'student_id': ['123', '123', '225'],\n",
    "        'course_id': ['CS101', 'BI213', 'EN524']}\n",
    "students = pd.DataFrame(data)\n",
    "\n",
    "# Initialize an empty DataFrame for 'new_students'\n",
    "new_students = pd.DataFrame(columns=['student_id', 'course_id', 'order'])\n",
    "\n",
    "# Insert 500 rows for each student_id and course_id pair from 'students'\n",
    "for index, row in students.iterrows():\n",
    "    student_id = row['student_id']\n",
    "    course_id = row['course_id']\n",
    "    for order in range(1, 501):  # 1 to 500 inclusive\n",
    "        new_students = new_students.append({'student_id': student_id,\n",
    "                                            'course_id': course_id,\n",
    "                                            'order': order}, ignore_index=True)\n",
    "\n",
    "# Print the 'new_students' DataFrame\n",
    "print(new_students)"
   ]
  },
  {
   "cell_type": "code",
   "execution_count": 4,
   "metadata": {},
   "outputs": [
    {
     "name": "stdout",
     "output_type": "stream",
     "text": [
      "     student_id course_id order\n",
      "0           123     CS101     1\n",
      "1           123     CS101     2\n",
      "2           123     CS101     3\n",
      "3           123     CS101     4\n",
      "4           123     CS101     5\n",
      "...         ...       ...   ...\n",
      "1495        225     EN524   496\n",
      "1496        225     EN524   497\n",
      "1497        225     EN524   498\n",
      "1498        225     EN524   499\n",
      "1499        225     EN524   500\n",
      "\n",
      "[1500 rows x 3 columns]\n"
     ]
    },
    {
     "data": {
      "text/plain": [
       "(1500, 3)"
      ]
     },
     "execution_count": 4,
     "metadata": {},
     "output_type": "execute_result"
    }
   ],
   "source": [
    "import pandas as pd\n",
    "\n",
    "# Create the 'students' DataFrame\n",
    "data = {'student_id': ['123', '123', '225'],\n",
    "        'course_id': ['CS101', 'BI213', 'EN524']}\n",
    "students = pd.DataFrame(data)\n",
    "\n",
    "# Initialize an empty DataFrame for 'new_students'\n",
    "new_students = pd.DataFrame(columns=['student_id', 'course_id', 'order'])\n",
    "\n",
    "# Insert 500 rows for each student_id and course_id pair from 'students'\n",
    "temp_data = []\n",
    "for index, row in students.iterrows():\n",
    "    student_id = row['student_id']\n",
    "    course_id = row['course_id']\n",
    "    for order in range(1, 501):  # 1 to 500 inclusive\n",
    "        temp_data.append({'student_id': student_id,\n",
    "                          'course_id': course_id,\n",
    "                          'order': order})\n",
    "\n",
    "temp_df = pd.DataFrame(temp_data)\n",
    "new_students = pd.concat([new_students, temp_df], ignore_index=True)\n",
    "\n",
    "# Create the 'new_students' DataFrame using the collected data\n",
    "new_students = pd.DataFrame(temp_data)\n",
    "\n",
    "# Print the 'new_students' DataFrame\n",
    "print(new_students)\n",
    "new_students.shape"
   ]
  },
  {
   "cell_type": "code",
   "execution_count": 5,
   "metadata": {},
   "outputs": [
    {
     "name": "stdout",
     "output_type": "stream",
     "text": [
      "     student_id course_id  order\n",
      "0           123     CS101      1\n",
      "1           123     CS101      2\n",
      "2           123     CS101      3\n",
      "3           123     CS101      4\n",
      "4           123     CS101      5\n",
      "...         ...       ...    ...\n",
      "1495        225     EN524    496\n",
      "1496        225     EN524    497\n",
      "1497        225     EN524    498\n",
      "1498        225     EN524    499\n",
      "1499        225     EN524    500\n",
      "\n",
      "[1500 rows x 3 columns]\n"
     ]
    }
   ],
   "source": [
    "import pandas as pd\n",
    "\n",
    "# Create the 'students' DataFrame\n",
    "data = {'student_id': ['123', '123', '225'],\n",
    "        'course_id': ['CS101', 'BI213', 'EN524']}\n",
    "students = pd.DataFrame(data)\n",
    "\n",
    "# Initialize an empty list for storing data before creating the 'new_students' DataFrame\n",
    "temp_data = []\n",
    "\n",
    "# Insert 500 rows for each student_id and course_id pair from 'students'\n",
    "for index, row in students.iterrows():\n",
    "    student_id = row['student_id']\n",
    "    course_id = row['course_id']\n",
    "    for order in range(1, 501):  # 1 to 500 inclusive\n",
    "        temp_data.append({'student_id': student_id,\n",
    "                          'course_id': course_id,\n",
    "                          'order': order})\n",
    "\n",
    "# Create the 'new_students' DataFrame using the collected data\n",
    "new_students = pd.DataFrame(temp_data)\n",
    "\n",
    "# Print the 'new_students' DataFrame\n",
    "print(new_students)\n"
   ]
  }
 ],
 "metadata": {
  "kernelspec": {
   "display_name": "Python 3",
   "language": "python",
   "name": "python3"
  },
  "language_info": {
   "codemirror_mode": {
    "name": "ipython",
    "version": 3
   },
   "file_extension": ".py",
   "mimetype": "text/x-python",
   "name": "python",
   "nbconvert_exporter": "python",
   "pygments_lexer": "ipython3",
   "version": "3.11.2"
  },
  "orig_nbformat": 4,
  "vscode": {
   "interpreter": {
    "hash": "ead1b95f633dc9c51826328e1846203f51a198c6fb5f2884a80417ba131d4e82"
   }
  }
 },
 "nbformat": 4,
 "nbformat_minor": 2
}
